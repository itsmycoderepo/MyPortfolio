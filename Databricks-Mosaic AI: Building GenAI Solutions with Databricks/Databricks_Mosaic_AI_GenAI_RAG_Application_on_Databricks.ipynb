{
 "cells": [
  {
   "cell_type": "markdown",
   "metadata": {
    "application/vnd.databricks.v1+cell": {
     "cellMetadata": {},
     "inputWidgets": {},
     "nuid": "beafd23d-5dca-4da6-b81b-1e07ddf1de5a",
     "showTitle": false,
     "tableResultSettingsMap": {},
     "title": ""
    }
   },
   "source": [
    "# Databricks-Mosaic AI: GenAI + RAG Application on Databricks\n",
    "\n",
    "<img src=\"https://github.com/itsmycoderepo/MyPortfolio/blob/main/Databricks-Mosaic%20AI%3A%20Building%20GenAI%20Solutions%20with%20Databricks/databricksMosaicAI.png?raw=true\" width=\"1200px\">\n",
    "\n",
    "<br/>\n",
    "\n",
    "\n"
   ]
  },
  {
   "cell_type": "markdown",
   "metadata": {},
   "source": [
    "## 1. Data preparation for RAG: building and indexing our knowledge base into Databricks Vector Search"
   ]
  },
  {
   "cell_type": "markdown",
   "metadata": {},
   "source": [
    "## Step 1 - Set Up the Environment"
   ]
  },
  {
   "cell_type": "code",
   "execution_count": 0,
   "metadata": {
    "application/vnd.databricks.v1+cell": {
     "cellMetadata": {},
     "inputWidgets": {},
     "nuid": "250f0e2e-d0aa-4f4e-a925-828f15aa947c",
     "showTitle": false,
     "tableResultSettingsMap": {},
     "title": ""
    }
   },
   "outputs": [],
   "source": [
    "%pip install -U --quiet databricks-sdk==0.28.0 databricks-agents mlflow-skinny mlflow mlflow[gateway] databricks-vectorsearch langchain==0.2.1 langchain_core==0.2.5 langchain_community==0.2.4\n",
    "dbutils.library.restartPython()"
   ]
  },
  {
   "cell_type": "markdown",
   "metadata": {},
   "source": [
    "## Step 2 - Prepare a Delta Table for your knowledge base"
   ]
  },
  {
   "cell_type": "code",
   "execution_count": 0,
   "metadata": {
    "application/vnd.databricks.v1+cell": {
     "cellMetadata": {},
     "inputWidgets": {},
     "nuid": "5e1bafde-3cd3-4726-b9e6-4afeccf8e632",
     "showTitle": false,
     "tableResultSettingsMap": {},
     "title": ""
    }
   },
   "outputs": [],
   "source": [
    "# Import necessary libraries\n",
    "from pyspark.sql import SparkSession\n",
    "from pyspark.sql.types import StructType, StructField, IntegerType, StringType\n",
    "\n",
    "# Initialize Spark session (skip if running on Databricks, where it's already initialized)\n",
    "spark = SparkSession.builder.appName(\"CreateManagedDeltaTable\").getOrCreate()\n",
    "\n",
    "# Define schema for the data\n",
    "schema = StructType([\n",
    "    StructField(\"id\", IntegerType(), True),\n",
    "    StructField(\"content\", StringType(), True)\n",
    "])\n",
    "\n",
    "# Data to insert into the Delta table\n",
    "data = [\n",
    "    (1, \"Microsoft Certified: Azure AI Engineer Associate\\nStudy guide for Exam AI-102:\\nSkills at a glance\\nPlan and manage an Azure AI solution (15–20%)\\nImplement content moderation solutions (10–15%)\\nImplement computer vision solutions (15–20%)\\nImplement natural language processing solutions (30–35%)\\nImplement knowledge mining and document intelligence solutions (10–15%)\\nImplement generative AI solutions (10–15%)\"),\n",
    "    (2, \"Microsoft Certified: Azure Data Scientist Associate\\nStudy guide for Exam DP-100:\\nSkills at a glance\\nDesign and prepare a machine learning solution (20–25%)\\nExplore data, and train models (35–40%)\\nPrepare a model for deployment (20–25%)\\nDeploy and retrain a model (10–15%)\"),\n",
    "    (3, \"Microsoft Certified: Azure Administrator Associate\\nStudy guide for Exam AZ-104:\\nSkills at a glance\\nManage Azure identities and governance (20–25%)\\nImplement and manage storage (15–20%)\\nDeploy and manage Azure compute resources (20–25%)\\nImplement and manage virtual networking (15–20%)\\nMonitor and maintain Azure resources (10–15%)\"),\n",
    "    (4, \"Microsoft Certified: Azure Solutions Architect Expert\\nStudy guide for Exam AZ-305:\\nSkills at a glance\\nDesign identity, governance, and monitoring solutions (25–30%)\\nDesign data storage solutions (20–25%)\\nDesign business continuity solutions (15–20%)\\nDesign infrastructure solutions (30–35%)\"),\n",
    "    (5, \"Microsoft Certified: DevOps Engineer Expert\\nStudy guide for Exam AZ-400:\\nSkills at a glance\\nDesign and implement processes and communications (10–15%)\\nDesign and implement a source control strategy (10–15%)\\nDesign and implement build and release pipelines (50–55%)\\nDevelop a security and compliance plan (10–15%)\\nImplement an instrumentation strategy (5–10%)\")\n",
    "]\n",
    "\n",
    "# Create DataFrame with the specified schema and data\n",
    "df = spark.createDataFrame(data, schema=schema)\n",
    "\n",
    "# Write DataFrame to a Delta managed table\n",
    "table_name = \"azure_certification_guide\"\n",
    "df.write.format(\"delta\").mode(\"overwrite\").saveAsTable(table_name)\n",
    "\n",
    "# Confirm the table creation\n",
    "spark.sql(f\"DESCRIBE TABLE {table_name}\").show()"
   ]
  },
  {
   "cell_type": "code",
   "execution_count": 0,
   "metadata": {
    "application/vnd.databricks.v1+cell": {
     "cellMetadata": {},
     "inputWidgets": {},
     "nuid": "83c11e8f-30ea-4172-8825-aeeca7c8baa2",
     "showTitle": false,
     "tableResultSettingsMap": {},
     "title": ""
    }
   },
   "outputs": [],
   "source": [
    "%sql\n",
    "select * from azure_certification_guide"
   ]
  },
  {
   "cell_type": "markdown",
   "metadata": {},
   "source": [
    "## Step 3 - Create a Vector Search Endpoint"
   ]
  },
  {
   "cell_type": "code",
   "execution_count": 0,
   "metadata": {
    "application/vnd.databricks.v1+cell": {
     "cellMetadata": {},
     "inputWidgets": {},
     "nuid": "bdacc932-43e5-47fa-9a7e-6f975687a173",
     "showTitle": false,
     "tableResultSettingsMap": {},
     "title": ""
    }
   },
   "outputs": [],
   "source": [
    "from databricks.vector_search.client import VectorSearchClient\n",
    "vector_search = VectorSearchClient(disable_notice=True)\n",
    "\n",
    "VECTOR_SEARCH_ENDPOINT_NAME = \"mosaicai-endpoint\"\n",
    "\n",
    "vector_search.create_endpoint(name=VECTOR_SEARCH_ENDPOINT_NAME, endpoint_type=\"STANDARD\")"
   ]
  },
  {
   "cell_type": "markdown",
   "metadata": {},
   "source": [
    "## Step 4 - Create a Vector Search Index"
   ]
  },
  {
   "cell_type": "code",
   "execution_count": 0,
   "metadata": {
    "application/vnd.databricks.v1+cell": {
     "cellMetadata": {},
     "inputWidgets": {},
     "nuid": "8639684b-54dc-4b10-a603-c0c1a827f4c9",
     "showTitle": false,
     "tableResultSettingsMap": {},
     "title": ""
    }
   },
   "outputs": [],
   "source": [
    "%sql\n",
    "ALTER TABLE `mosaicai`.`default`.`azure_certification_guide` SET TBLPROPERTIES (delta.enableChangeDataFeed = true)"
   ]
  },
  {
   "cell_type": "markdown",
   "metadata": {},
   "source": [
    "## Please come back here after you have create a Vector Search Index. Refer the blog for detailed steps"
   ]
  },
  {
   "cell_type": "code",
   "execution_count": 0,
   "metadata": {
    "application/vnd.databricks.v1+cell": {
     "cellMetadata": {},
     "inputWidgets": {},
     "nuid": "48cda614-d540-49c6-b0c3-10385dc62ee3",
     "showTitle": false,
     "tableResultSettingsMap": {},
     "title": ""
    }
   },
   "outputs": [],
   "source": [
    "%sql\n",
    "select * from mosaicai.default.azure_certification_guide_vs_index_writeback_table\n"
   ]
  },
  {
   "cell_type": "markdown",
   "metadata": {},
   "source": [
    "## Step 4 - Query the Vector Search Index"
   ]
  },
  {
   "cell_type": "code",
   "execution_count": 0,
   "metadata": {
    "application/vnd.databricks.v1+cell": {
     "cellMetadata": {},
     "inputWidgets": {},
     "nuid": "1a3fb5b5-09c8-4999-a985-42f3919219ef",
     "showTitle": false,
     "tableResultSettingsMap": {},
     "title": ""
    }
   },
   "outputs": [],
   "source": [
    "question = \"Is there any exam on AI?\"\n",
    "\n",
    "results = vector_search.get_index(\"mosaicai-endpoint\", \"mosaicai.default.azure_certification_guide_vs_index\").similarity_search(\n",
    "  query_text=question,\n",
    "  columns=[\"content\"],\n",
    "  num_results=1)\n",
    "docs = results.get('result', {}).get('data_array', [])\n",
    "display(docs)"
   ]
  },
  {
   "cell_type": "markdown",
   "metadata": {},
   "source": [
    "## Step 5 - Verifying Incremental auto sync"
   ]
  },
  {
   "cell_type": "code",
   "execution_count": 0,
   "metadata": {
    "application/vnd.databricks.v1+cell": {
     "cellMetadata": {},
     "inputWidgets": {},
     "nuid": "92bd43bf-36e0-44fa-bc82-087db84f3913",
     "showTitle": false,
     "tableResultSettingsMap": {},
     "title": ""
    }
   },
   "outputs": [],
   "source": [
    "from pyspark.sql import SparkSession\n",
    "from pyspark.sql.types import StructType, StructField, IntegerType, StringType\n",
    "\n",
    "# Initialize Spark session (skip if running on Databricks, where it's already initialized)\n",
    "spark = SparkSession.builder.appName(\"AppendDataToDeltaTable\").getOrCreate()\n",
    "\n",
    "# Define schema for the data (same as before)\n",
    "schema = StructType([\n",
    "    StructField(\"id\", IntegerType(), True),\n",
    "    StructField(\"content\", StringType(), True)\n",
    "])\n",
    "\n",
    "# New data to append\n",
    "new_data = [(6, \"Microsoft Certified: Azure Developer Associate\\nStudy guide for Exam AZ-204:\\nSkills at a glance\\nDevelop Azure compute solutions (25–30%)\\nDevelop for Azure storage (15–20%)\\nImplement Azure security (15–20%)\\nMonitor, troubleshoot, and optimize Azure solutions (10–15%)\\nConnect to and consume Azure services and third-party services (20–25%)\")]\n",
    "\n",
    "# Create DataFrame with the new data\n",
    "new_df = spark.createDataFrame(new_data, schema=schema)\n",
    "\n",
    "# Append the new DataFrame to the existing Delta table\n",
    "table_name = \"azure_certification_guide\"\n",
    "new_df.write.format(\"delta\").mode(\"append\").saveAsTable(table_name)"
   ]
  }
 ],
 "metadata": {
  "application/vnd.databricks.v1+notebook": {
   "dashboards": [],
   "environmentMetadata": {
    "base_environment": "",
    "client": "1"
   },
   "language": "python",
   "notebookMetadata": {
    "pythonIndentUnit": 2
   },
   "notebookName": "exmple",
   "widgets": {}
  },
  "language_info": {
   "name": "python"
  }
 },
 "nbformat": 4,
 "nbformat_minor": 0
}
